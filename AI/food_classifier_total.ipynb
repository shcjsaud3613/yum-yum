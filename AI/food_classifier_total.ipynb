{
  "nbformat": 4,
  "nbformat_minor": 0,
  "metadata": {
    "colab": {
      "name": "food_classifier_total.ipynb",
      "provenance": [],
      "collapsed_sections": [],
      "toc_visible": true
    },
    "kernelspec": {
      "name": "python3",
      "display_name": "Python 3"
    },
    "language_info": {
      "name": "python"
    },
    "accelerator": "GPU"
  },
  "cells": [
    {
      "cell_type": "markdown",
      "metadata": {
        "id": "tHHt-m9ParQr"
      },
      "source": [
        "# InceptionV3를 활용한 음식 이미지 분류"
      ]
    },
    {
      "cell_type": "markdown",
      "metadata": {
        "id": "u08Y20qIbE-w"
      },
      "source": [
        "이 파일은 keras, tensorflow, InceptionV3를 활용한 음식 이미지를 학습하고 분류하는 모델을 만드는 과정을 다룬다."
      ]
    },
    {
      "cell_type": "markdown",
      "metadata": {
        "id": "OYjmXH1EbAvI"
      },
      "source": [
        "## Google Colab 링크\n",
        "\n",
        "https://colab.research.google.com/drive/1wl67VtQbxdfLNo2Z8ItxADs_SHzOugrU#scrollTo=OYjmXH1EbAvI"
      ]
    },
    {
      "cell_type": "markdown",
      "metadata": {
        "id": "I0uFZGnza6xV"
      },
      "source": [
        "**Food Dataset** - https://www.vision.ee.ethz.ch/datasets_extra/food-101/\n",
        "\n",
        "**일부 학습 데이터세트는 AI Hub에서 신청하여 받았고, 저작자는 한국지능정보사회진흥원이다.**"
      ]
    },
    {
      "cell_type": "markdown",
      "metadata": {
        "id": "mV1BvvikcH0o"
      },
      "source": [
        "## 참고자료\n",
        "\n",
        "https://colab.research.google.com/drive/1bO5c3wT9M84H-Y2a7saaBArPXF6ii4v8#scrollTo=7wJ_OH1DQyrd"
      ]
    },
    {
      "cell_type": "code",
      "metadata": {
        "id": "UiF0dszwvCkc"
      },
      "source": [
        "# Google Colab 재시작\n",
        "!kill -9 -1"
      ],
      "execution_count": null,
      "outputs": []
    },
    {
      "cell_type": "markdown",
      "metadata": {
        "id": "R9mbfFJabDZw"
      },
      "source": [
        "## 데이터세트 다운로드"
      ]
    },
    {
      "cell_type": "code",
      "metadata": {
        "id": "jz5GmUZTbTup"
      },
      "source": [
        "from __future__ import absolute_import, division, print_function\n",
        "\n",
        "import tensorflow as tf\n",
        "\n",
        "import tensorflow.keras.backend as K\n",
        "from tensorflow.keras.models import load_model\n",
        "from tensorflow.keras.preprocessing import image\n",
        "from tensorflow.keras import regularizers\n",
        "from tensorflow.keras.applications.inception_v3 import InceptionV3\n",
        "from tensorflow.keras.models import Model\n",
        "from tensorflow.keras.layers import Dense, Dropout\n",
        "from tensorflow.keras.layers import GlobalAveragePooling2D\n",
        "from tensorflow.keras.preprocessing.image import ImageDataGenerator\n",
        "from tensorflow.keras.callbacks import ModelCheckpoint, CSVLogger\n",
        "from tensorflow.keras.optimizers import SGD\n",
        "from tensorflow.keras.regularizers import l2\n",
        "\n",
        "from tensorflow import keras\n",
        "from tensorflow.keras import models\n",
        "from tensorflow.keras.applications.inception_v3 import preprocess_input\n",
        "\n",
        "import cv2\n",
        "import os\n",
        "import random\n",
        "import collections\n",
        "from collections import defaultdict\n",
        "\n",
        "from shutil import copy\n",
        "from shutil import copytree, rmtree\n",
        "\n",
        "import numpy as np\n",
        "\n",
        "import matplotlib.pyplot as plt\n",
        "import matplotlib.image as img\n",
        "%matplotlib inline"
      ],
      "execution_count": null,
      "outputs": []
    },
    {
      "cell_type": "code",
      "metadata": {
        "colab": {
          "base_uri": "https://localhost:8080/"
        },
        "id": "JpXANsscbVNx",
        "outputId": "31fdec65-4cb9-4a66-e40b-1c0566cfbb22"
      },
      "source": [
        "# Check TF version and whether GPU is enabled\n",
        "print(tf.__version__)\n",
        "print(tf.test.gpu_device_name())"
      ],
      "execution_count": null,
      "outputs": [
        {
          "output_type": "stream",
          "text": [
            "2.4.1\n",
            "/device:GPU:0\n"
          ],
          "name": "stdout"
        }
      ]
    },
    {
      "cell_type": "markdown",
      "metadata": {
        "id": "vaB5TjXUbwcv"
      },
      "source": [
        "- 데이터를 다운로드한다."
      ]
    },
    {
      "cell_type": "code",
      "metadata": {
        "colab": {
          "base_uri": "https://localhost:8080/"
        },
        "id": "U96sNUE5byhZ",
        "outputId": "3c9af2e6-566b-4f94-f626-7cd82893bbf8"
      },
      "source": [
        "# Helper function to download data and extract\n",
        "\n",
        "def get_data_extract():\n",
        "  if \"food-101\" in os.listdir():\n",
        "    print(\"Dataset already exists\")\n",
        "  else:\n",
        "    tf.keras.utils.get_file(\n",
        "    'food-101.tar.gz',\n",
        "    'http://data.vision.ee.ethz.ch/cvl/food-101.tar.gz',\n",
        "    cache_subdir='/content',\n",
        "    extract=True,\n",
        "    archive_format='tar',\n",
        "    cache_dir=None\n",
        "    )\n",
        "    print(\"Dataset downloaded and extracted!\")\n",
        "\n",
        "# Download data and extract it to folder\n",
        "get_data_extract()"
      ],
      "execution_count": null,
      "outputs": [
        {
          "output_type": "stream",
          "text": [
            "Downloading data from http://data.vision.ee.ethz.ch/cvl/food-101.tar.gz\n",
            "4996284416/4996278331 [==============================] - 74s 0us/step\n",
            "Dataset downloaded and extracted!\n"
          ],
          "name": "stdout"
        }
      ]
    },
    {
      "cell_type": "markdown",
      "metadata": {
        "id": "2NOPxdnucB0I"
      },
      "source": [
        "## 데이터세트 구성 확인"
      ]
    },
    {
      "cell_type": "markdown",
      "metadata": {
        "id": "idMhrLGOcZHX"
      },
      "source": [
        "다운받은 데이터세트의 디렉토리 구성을 확인한다."
      ]
    },
    {
      "cell_type": "code",
      "metadata": {
        "colab": {
          "base_uri": "https://localhost:8080/"
        },
        "id": "432d8EdGcCE_",
        "outputId": "c63efe82-91a2-4bea-c01c-71e33143d531"
      },
      "source": [
        "# Check the extracted dataset folder\n",
        "os.listdir('food-101/')"
      ],
      "execution_count": null,
      "outputs": [
        {
          "output_type": "execute_result",
          "data": {
            "text/plain": [
              "['README.txt', 'license_agreement.txt', 'meta', 'images']"
            ]
          },
          "metadata": {
            "tags": []
          },
          "execution_count": 4
        }
      ]
    },
    {
      "cell_type": "code",
      "metadata": {
        "id": "p34FHLDQcUoo"
      },
      "source": [
        "os.listdir('food-101/images')"
      ],
      "execution_count": null,
      "outputs": []
    },
    {
      "cell_type": "code",
      "metadata": {
        "colab": {
          "base_uri": "https://localhost:8080/"
        },
        "id": "XiJe3XGKcdQ_",
        "outputId": "0f2b1ec5-f0d6-4b40-de89-e4f4a098f0b8"
      },
      "source": [
        "os.listdir('food-101/meta')"
      ],
      "execution_count": null,
      "outputs": [
        {
          "output_type": "execute_result",
          "data": {
            "text/plain": [
              "['train.txt',\n",
              " 'test.txt',\n",
              " 'classes.txt',\n",
              " 'test.json',\n",
              " 'train.json',\n",
              " 'labels.txt']"
            ]
          },
          "metadata": {
            "tags": []
          },
          "execution_count": 6
        }
      ]
    },
    {
      "cell_type": "markdown",
      "metadata": {
        "id": "RMllA5XccllX"
      },
      "source": [
        "## 랜덤 이미지 시각화"
      ]
    },
    {
      "cell_type": "code",
      "metadata": {
        "id": "Dz0KMgC5cpog"
      },
      "source": [
        "# Visualize the data, showing one image per class from 101 classes\n",
        "rows = 17\n",
        "cols = 6\n",
        "fig, ax = plt.subplots(rows, cols, figsize=(25,25))\n",
        "fig.suptitle(\"Showing one random image from each class\", y=1.05, fontsize=24) # Adding  y=1.05, fontsize=24 helped me fix the suptitle overlapping with axes issue\n",
        "data_dir = \"food-101/images/\"\n",
        "foods_sorted = sorted(os.listdir(data_dir))\n",
        "food_id = 0\n",
        "for i in range(rows):\n",
        "  for j in range(cols):\n",
        "    try:\n",
        "      food_selected = foods_sorted[food_id] \n",
        "      food_id += 1\n",
        "    except:\n",
        "      break\n",
        "    food_selected_images = os.listdir(os.path.join(data_dir,food_selected)) # returns the list of all files present in each food category\n",
        "    food_selected_random = np.random.choice(food_selected_images) # picks one food item from the list as choice, takes a list and returns one random item\n",
        "    img = plt.imread(os.path.join(data_dir,food_selected, food_selected_random))\n",
        "    ax[i][j].imshow(img)\n",
        "    ax[i][j].set_title(food_selected, pad = 10)\n",
        "    \n",
        "plt.setp(ax, xticks=[],yticks=[])\n",
        "plt.tight_layout()\n",
        "# https://matplotlib.org/users/tight_layout_guide.html"
      ],
      "execution_count": null,
      "outputs": []
    },
    {
      "cell_type": "markdown",
      "metadata": {
        "id": "g4O5Wutxcspn"
      },
      "source": [
        "## 이미지를 훈련용과 테스트용으로 분류"
      ]
    },
    {
      "cell_type": "code",
      "metadata": {
        "id": "Ni75AEPNizdq"
      },
      "source": [
        "# Helper method to split dataset into train and test folders\n",
        "def prepare_data(filepath, src,dest):\n",
        "  classes_images = defaultdict(list)\n",
        "  with open(filepath, 'r') as txt:\n",
        "      paths = [read.strip() for read in txt.readlines()]\n",
        "      for p in paths:\n",
        "        food = p.split('/')\n",
        "        classes_images[food[0]].append(food[1] + '.jpg')\n",
        "\n",
        "  for food in classes_images.keys():\n",
        "    print(\"\\nCopying images into \",food)\n",
        "    if not os.path.exists(os.path.join(dest,food)):\n",
        "      os.makedirs(os.path.join(dest,food))\n",
        "    for i in classes_images[food]:\n",
        "      copy(os.path.join(src,food,i), os.path.join(dest,food,i))\n",
        "  print(\"Copying Done!\")"
      ],
      "execution_count": null,
      "outputs": []
    },
    {
      "cell_type": "markdown",
      "metadata": {
        "id": "iYTibcU0jyJp"
      },
      "source": [
        "meta 폴더 안에 있는 `train.txt`, `test.txt` 를 참고하여 데이터세트를 분류한다."
      ]
    },
    {
      "cell_type": "code",
      "metadata": {
        "id": "dvZR06zMi1ly"
      },
      "source": [
        "# Prepare train dataset by copying images from food-101/images to food-101/train using the file train.txt\n",
        "print(\"Creating train data...\")\n",
        "prepare_data('food-101/meta/train.txt', 'food-101/images', 'food-101/train')"
      ],
      "execution_count": null,
      "outputs": []
    },
    {
      "cell_type": "code",
      "metadata": {
        "id": "lr_b3MWoi7ca"
      },
      "source": [
        "# Prepare test data by copying images from food-101/images to food-101/test using the file test.txt\n",
        "print(\"Creating test data...\")\n",
        "prepare_data('food-101/meta/test.txt', 'food-101/images', 'food-101/test')"
      ],
      "execution_count": null,
      "outputs": []
    },
    {
      "cell_type": "markdown",
      "metadata": {
        "id": "cbKkcNFOj8qJ"
      },
      "source": [
        "폴더에 분류가 잘 되었는지 개수를 확인한다."
      ]
    },
    {
      "cell_type": "code",
      "metadata": {
        "colab": {
          "base_uri": "https://localhost:8080/"
        },
        "id": "1r41XF6nj_VM",
        "outputId": "cf2b67f6-ce1b-459d-bc54-96e9dad2f8a2"
      },
      "source": [
        "# Check how many files are in the train folder\n",
        "train_files = sum([len(files) for i, j, files in os.walk(\"food-101/train\")])\n",
        "print(\"Total number of samples in train folder\")\n",
        "print(train_files)"
      ],
      "execution_count": null,
      "outputs": [
        {
          "output_type": "stream",
          "text": [
            "Total number of samples in train folder\n",
            "75750\n"
          ],
          "name": "stdout"
        }
      ]
    },
    {
      "cell_type": "code",
      "metadata": {
        "colab": {
          "base_uri": "https://localhost:8080/"
        },
        "id": "DVigo8QakAbR",
        "outputId": "5b06e559-79c0-46a7-971c-9755cf416909"
      },
      "source": [
        "# Check how many files are in the test folder\n",
        "test_files = sum([len(files) for i, j, files in os.walk(\"food-101/test\")])\n",
        "print(\"Total number of samples in test folder\")\n",
        "print(test_files)"
      ],
      "execution_count": null,
      "outputs": [
        {
          "output_type": "stream",
          "text": [
            "Total number of samples in test folder\n",
            "25250\n"
          ],
          "name": "stdout"
        }
      ]
    },
    {
      "cell_type": "markdown",
      "metadata": {
        "id": "-Ph3JdAFBHPl"
      },
      "source": [
        "# 분류되어 있는 훈련 및 학습데이터 다운로드"
      ]
    },
    {
      "cell_type": "markdown",
      "metadata": {
        "id": "8uNzv3CkBNaD"
      },
      "source": [
        "**food-101**에는 양식 데이터, **한국지능정보사회진흥원**에서는 한식 데이터가 포함되어 있다.\n",
        "\n",
        "한국 국민이 자주 먹는 음식을 위주로 골라 훈련용, 테스트용으로 분류했다."
      ]
    },
    {
      "cell_type": "markdown",
      "metadata": {
        "id": "8xJ9wK46GwrQ"
      },
      "source": [
        "## 한글 폰트 다운로드"
      ]
    },
    {
      "cell_type": "code",
      "metadata": {
        "id": "Xvq1oBBqGwUB"
      },
      "source": [
        "!sudo apt-get install -y fonts-nanum\n",
        "!sudo fc-cache -fv\n",
        "!rm ~/.cache/matplotlib -rf"
      ],
      "execution_count": null,
      "outputs": []
    },
    {
      "cell_type": "code",
      "metadata": {
        "id": "tmRZngdmG7Xx"
      },
      "source": [
        "import matplotlib.pyplot as plt\n",
        "\n",
        "plt.rc('font', family='NanumBarunGothic') "
      ],
      "execution_count": null,
      "outputs": []
    },
    {
      "cell_type": "markdown",
      "metadata": {
        "id": "DVVdRTAwCK0y"
      },
      "source": [
        "## 구글 드라이브 마운트"
      ]
    },
    {
      "cell_type": "code",
      "metadata": {
        "colab": {
          "base_uri": "https://localhost:8080/"
        },
        "id": "tqlGlmrpB3Bj",
        "outputId": "2ebbb66d-7a09-4727-b8a8-5acae4fed30a"
      },
      "source": [
        "from google.colab import drive\n",
        "drive.mount('/content/drive')"
      ],
      "execution_count": null,
      "outputs": [
        {
          "output_type": "stream",
          "text": [
            "Mounted at /content/drive\n"
          ],
          "name": "stdout"
        }
      ]
    },
    {
      "cell_type": "markdown",
      "metadata": {
        "id": "II5hn5uyCNjS"
      },
      "source": [
        "## 데이터세트 다운로드"
      ]
    },
    {
      "cell_type": "code",
      "metadata": {
        "id": "ru6_7MXkCRgL"
      },
      "source": [
        "!unzip /content/drive/MyDrive/Colab/yumyum-project/food.zip"
      ],
      "execution_count": null,
      "outputs": []
    },
    {
      "cell_type": "markdown",
      "metadata": {
        "id": "L9rpigTLC0XW"
      },
      "source": [
        "## 데이터세트 구성 확인"
      ]
    },
    {
      "cell_type": "code",
      "metadata": {
        "id": "ktjZ7OpvC1_G"
      },
      "source": [
        "os.listdir('food/train')"
      ],
      "execution_count": null,
      "outputs": []
    },
    {
      "cell_type": "markdown",
      "metadata": {
        "id": "LGXx1YiSGTaQ"
      },
      "source": [
        "## 랜덤 이미지 시각화"
      ]
    },
    {
      "cell_type": "code",
      "metadata": {
        "id": "mcTaQUdSGVMQ"
      },
      "source": [
        "# Visualize the data, showing one image per class from 101 classes\n",
        "rows = 17\n",
        "cols = 6\n",
        "fig, ax = plt.subplots(rows, cols, figsize=(25,25))\n",
        "fig.suptitle(\"Showing one random image from each class\", y=1.05, fontsize=24) # Adding  y=1.05, fontsize=24 helped me fix the suptitle overlapping with axes issue\n",
        "data_dir = \"food/train/\"\n",
        "foods_sorted = sorted(os.listdir(data_dir))\n",
        "food_id = 0\n",
        "for i in range(rows):\n",
        "  for j in range(cols):\n",
        "    try:\n",
        "      food_selected = foods_sorted[food_id] \n",
        "      food_id += 1\n",
        "    except:\n",
        "      break\n",
        "    food_selected_images = os.listdir(os.path.join(data_dir,food_selected)) # returns the list of all files present in each food category\n",
        "    food_selected_random = np.random.choice(food_selected_images) # picks one food item from the list as choice, takes a list and returns one random item\n",
        "    img = plt.imread(os.path.join(data_dir,food_selected, food_selected_random))\n",
        "    ax[i][j].imshow(img)\n",
        "    ax[i][j].set_title(food_selected, pad = 10)\n",
        "    \n",
        "plt.setp(ax, xticks=[],yticks=[])\n",
        "plt.tight_layout()\n",
        "# https://matplotlib.org/users/tight_layout_guide.html"
      ],
      "execution_count": null,
      "outputs": []
    },
    {
      "cell_type": "markdown",
      "metadata": {
        "id": "_C0_mPWOm9-w"
      },
      "source": [
        "# 3가지 음식 이미지 분류 모델"
      ]
    },
    {
      "cell_type": "markdown",
      "metadata": {
        "id": "ajpqsQAW9TpL"
      },
      "source": [
        "이 챕터에서는 사모사, 피자, 오믈렛을 분류하는 모델을 훈련한다.\n",
        "\n",
        "전체적인 코드가 잘 작동하는지 확인하기 위함이기에, 사전에 문제가 없다고 검증이 끝났다면 바로 다음 챕터로 넘어가도 된다."
      ]
    },
    {
      "cell_type": "markdown",
      "metadata": {
        "id": "gnE0Q58L84U1"
      },
      "source": [
        "## 3가지 음식이 포함된 학습 및 테스트 데이터세트 만들기"
      ]
    },
    {
      "cell_type": "code",
      "metadata": {
        "id": "WhQs6UxgmDAY"
      },
      "source": [
        "# List of all 101 types of foods(sorted alphabetically)\n",
        "foods_sorted"
      ],
      "execution_count": null,
      "outputs": []
    },
    {
      "cell_type": "code",
      "metadata": {
        "id": "4JVBBN2em-0f"
      },
      "source": [
        "# Helper method to create train_mini and test_mini data samples\n",
        "def dataset_mini(food_list, src, dest):\n",
        "  if os.path.exists(dest):\n",
        "    rmtree(dest) # removing dataset_mini(if it already exists) folders so that we will have only the classes that we want\n",
        "  os.makedirs(dest)\n",
        "  for food_item in food_list :\n",
        "    print(\"Copying images into\",food_item)\n",
        "    copytree(os.path.join(src,food_item), os.path.join(dest,food_item))"
      ],
      "execution_count": null,
      "outputs": []
    },
    {
      "cell_type": "markdown",
      "metadata": {
        "id": "pwOt674sn8lV"
      },
      "source": [
        "선정된 음식파일은 각각 `train_mini`, `test_mini` 에 저장한다."
      ]
    },
    {
      "cell_type": "code",
      "metadata": {
        "id": "rJVKU_sanAuV"
      },
      "source": [
        "# picking 3 food items and generating separate data folders for the same\n",
        "# root_dir = 'food-101'\n",
        "root_dit = 'food'\n",
        "food_list = ['후라이드치킨','피자','볶음밥']\n",
        "src_train = root_dit+'/train'\n",
        "dest_train = root_dit+'/train_mini'\n",
        "src_test = root_dit+'/test'\n",
        "dest_test = root_dit+'/test_mini'"
      ],
      "execution_count": null,
      "outputs": []
    },
    {
      "cell_type": "markdown",
      "metadata": {
        "id": "n6yRY5NPoNm1"
      },
      "source": [
        "데이터세트를 저장하고 개수를 확인한다."
      ]
    },
    {
      "cell_type": "code",
      "metadata": {
        "colab": {
          "base_uri": "https://localhost:8080/"
        },
        "id": "vNGgzG5qnCM2",
        "outputId": "bf8c2c54-8afb-4f97-f904-ad85ca51caf9"
      },
      "source": [
        "print(\"Creating train data folder with new classes\")\n",
        "dataset_mini(food_list, src_train, dest_train)"
      ],
      "execution_count": null,
      "outputs": [
        {
          "output_type": "stream",
          "text": [
            "Creating train data folder with new classes\n",
            "Copying images into 후라이드치킨\n",
            "Copying images into 피자\n",
            "Copying images into 볶음밥\n"
          ],
          "name": "stdout"
        }
      ]
    },
    {
      "cell_type": "code",
      "metadata": {
        "colab": {
          "base_uri": "https://localhost:8080/"
        },
        "id": "JV7m3996nqYV",
        "outputId": "6a61306c-cb59-4d3b-d62a-515140c7d883"
      },
      "source": [
        "print(\"Total number of samples in train folder\")\n",
        "train_files = sum([len(files) for i, j, files in os.walk(\"food/train_mini\")])\n",
        "print(train_files)"
      ],
      "execution_count": null,
      "outputs": [
        {
          "output_type": "stream",
          "text": [
            "Total number of samples in train folder\n",
            "2250\n"
          ],
          "name": "stdout"
        }
      ]
    },
    {
      "cell_type": "code",
      "metadata": {
        "colab": {
          "base_uri": "https://localhost:8080/"
        },
        "id": "GEztmemnnq9N",
        "outputId": "f402b816-4dcd-4247-d3e7-cf8510a952f8"
      },
      "source": [
        "print(\"Creating test data folder with new classes\")\n",
        "dataset_mini(food_list, src_test, dest_test)"
      ],
      "execution_count": null,
      "outputs": [
        {
          "output_type": "stream",
          "text": [
            "Creating test data folder with new classes\n",
            "Copying images into 후라이드치킨\n",
            "Copying images into 피자\n",
            "Copying images into 볶음밥\n"
          ],
          "name": "stdout"
        }
      ]
    },
    {
      "cell_type": "code",
      "metadata": {
        "colab": {
          "base_uri": "https://localhost:8080/"
        },
        "id": "7ios3jz6nrXW",
        "outputId": "e3f0eb88-7460-49d5-a0c2-c0be0ffbdb7e"
      },
      "source": [
        "print(\"Total number of samples in test folder\")\n",
        "test_files = sum([len(files) for i, j, files in os.walk(\"food/test_mini\")])\n",
        "print(test_files)"
      ],
      "execution_count": null,
      "outputs": [
        {
          "output_type": "stream",
          "text": [
            "Total number of samples in test folder\n",
            "750\n"
          ],
          "name": "stdout"
        }
      ]
    },
    {
      "cell_type": "markdown",
      "metadata": {
        "id": "RHKHHnoIody9"
      },
      "source": [
        "## 분류한 데이터세트로 Inception 모델 미세조정"
      ]
    },
    {
      "cell_type": "code",
      "metadata": {
        "id": "Z11XBU84okLH"
      },
      "source": [
        "def train_model(n_classes,num_epochs, nb_train_samples,nb_validation_samples):\n",
        "  K.clear_session()\n",
        "\n",
        "  img_width, img_height = 299, 299\n",
        "  train_data_dir = 'food/train_mini'\n",
        "  validation_data_dir = 'food/test_mini'\n",
        "  batch_size = 16\n",
        "  bestmodel_path = 'bestmodel_'+str(n_classes)+'class.hdf5'\n",
        "  trainedmodel_path = 'trainedmodel_'+str(n_classes)+'class.hdf5'\n",
        "  history_path = 'history_'+str(n_classes)+'.log'\n",
        "\n",
        "  train_datagen = ImageDataGenerator(\n",
        "      preprocessing_function=preprocess_input,\n",
        "      shear_range=0.2,\n",
        "      zoom_range=0.2,\n",
        "      horizontal_flip=True)\n",
        "\n",
        "  test_datagen = ImageDataGenerator(preprocessing_function=preprocess_input)\n",
        "\n",
        "  train_generator = train_datagen.flow_from_directory(\n",
        "      train_data_dir,\n",
        "      target_size=(img_height, img_width),\n",
        "      batch_size=batch_size,\n",
        "      class_mode='categorical')\n",
        "\n",
        "  validation_generator = test_datagen.flow_from_directory(\n",
        "      validation_data_dir,\n",
        "      target_size=(img_height, img_width),\n",
        "      batch_size=batch_size,\n",
        "      class_mode='categorical')\n",
        "\n",
        "\n",
        "  inception = InceptionV3(weights='imagenet', include_top=False)\n",
        "  x = inception.output\n",
        "  x = GlobalAveragePooling2D()(x)\n",
        "  x = Dense(128,activation='relu')(x)\n",
        "  x = Dropout(0.2)(x)\n",
        "\n",
        "  predictions = Dense(n_classes,kernel_regularizer=regularizers.l2(0.005), activation='softmax')(x)\n",
        "\n",
        "  model = Model(inputs=inception.input, outputs=predictions)\n",
        "  model.compile(optimizer=SGD(lr=0.0001, momentum=0.9), loss='categorical_crossentropy', metrics=['accuracy'])\n",
        "  checkpoint = ModelCheckpoint(filepath=bestmodel_path, verbose=1, save_best_only=True)\n",
        "  csv_logger = CSVLogger(history_path)\n",
        "\n",
        "  history = model.fit(train_generator,\n",
        "                      steps_per_epoch = nb_train_samples // batch_size,\n",
        "                      validation_data=validation_generator,\n",
        "                      validation_steps=nb_validation_samples // batch_size,\n",
        "                      epochs=num_epochs,\n",
        "                      verbose=1,\n",
        "                      callbacks=[csv_logger, checkpoint])\n",
        "\n",
        "  model.save(trainedmodel_path)\n",
        "  class_map = train_generator.class_indices\n",
        "  return history, class_map"
      ],
      "execution_count": null,
      "outputs": []
    },
    {
      "cell_type": "code",
      "metadata": {
        "id": "ojWqVVKlorEV",
        "colab": {
          "base_uri": "https://localhost:8080/"
        },
        "outputId": "1fa8eb1d-2033-4b87-a040-eb86fb20734c"
      },
      "source": [
        "# Train the model with data from 3 classes\n",
        "n_classes = 3\n",
        "epochs = 5\n",
        "nb_train_samples = train_files\n",
        "nb_validation_samples = test_files\n",
        "\n",
        "history, class_map_3 = train_model(n_classes,epochs, nb_train_samples,nb_validation_samples)\n",
        "print(class_map_3)"
      ],
      "execution_count": null,
      "outputs": [
        {
          "output_type": "stream",
          "text": [
            "Found 2250 images belonging to 3 classes.\n",
            "Found 750 images belonging to 3 classes.\n",
            "Downloading data from https://storage.googleapis.com/tensorflow/keras-applications/inception_v3/inception_v3_weights_tf_dim_ordering_tf_kernels_notop.h5\n",
            "87916544/87910968 [==============================] - 0s 0us/step\n",
            "Epoch 1/5\n",
            " 22/140 [===>..........................] - ETA: 42s - loss: 1.2250 - accuracy: 0.2838"
          ],
          "name": "stdout"
        },
        {
          "output_type": "stream",
          "text": [
            "/usr/local/lib/python3.7/dist-packages/PIL/Image.py:960: UserWarning: Palette images with Transparency expressed in bytes should be converted to RGBA images\n",
            "  \"Palette images with Transparency expressed in bytes should be \"\n"
          ],
          "name": "stderr"
        },
        {
          "output_type": "stream",
          "text": [
            "140/140 [==============================] - 92s 395ms/step - loss: 1.1041 - accuracy: 0.4258 - val_loss: 0.6041 - val_accuracy: 0.9035\n",
            "\n",
            "Epoch 00001: val_loss improved from inf to 0.60415, saving model to bestmodel_3class.hdf5\n",
            "Epoch 2/5\n",
            "140/140 [==============================] - 53s 380ms/step - loss: 0.6645 - accuracy: 0.8239 - val_loss: 0.3498 - val_accuracy: 0.9457\n",
            "\n",
            "Epoch 00002: val_loss improved from 0.60415 to 0.34984, saving model to bestmodel_3class.hdf5\n",
            "Epoch 3/5\n",
            "140/140 [==============================] - 53s 378ms/step - loss: 0.4270 - accuracy: 0.8947 - val_loss: 0.2369 - val_accuracy: 0.9660\n",
            "\n",
            "Epoch 00003: val_loss improved from 0.34984 to 0.23687, saving model to bestmodel_3class.hdf5\n",
            "Epoch 4/5\n",
            "140/140 [==============================] - 53s 378ms/step - loss: 0.3122 - accuracy: 0.9220 - val_loss: 0.1771 - val_accuracy: 0.9755\n",
            "\n",
            "Epoch 00004: val_loss improved from 0.23687 to 0.17708, saving model to bestmodel_3class.hdf5\n",
            "Epoch 5/5\n",
            "140/140 [==============================] - 53s 378ms/step - loss: 0.2509 - accuracy: 0.9342 - val_loss: 0.1444 - val_accuracy: 0.9783\n",
            "\n",
            "Epoch 00005: val_loss improved from 0.17708 to 0.14435, saving model to bestmodel_3class.hdf5\n",
            "{'볶음밥': 0, '피자': 1, '후라이드치킨': 2}\n"
          ],
          "name": "stdout"
        }
      ]
    },
    {
      "cell_type": "markdown",
      "metadata": {
        "id": "w2e-Ol7Su9iA"
      },
      "source": [
        "## 정확도(accuracy)와 손실값(loss)를 시각화한다."
      ]
    },
    {
      "cell_type": "code",
      "metadata": {
        "id": "Jv7-OqTZvE32",
        "colab": {
          "base_uri": "https://localhost:8080/",
          "height": 573
        },
        "outputId": "82368d24-b4f6-4573-fab2-d9768c593ecc"
      },
      "source": [
        "def plot_accuracy(history,title):\n",
        "    plt.title(title)\n",
        "    plt.plot(history.history['accuracy']) # change acc to accuracy if testing TF 2.0\n",
        "    plt.plot(history.history['val_accuracy']) # change val_accuracy if testing TF 2.0\n",
        "    plt.ylabel('accuracy')\n",
        "    plt.xlabel('epoch')\n",
        "    plt.legend(['train_accuracy', 'validation_accuracy'], loc='best')\n",
        "    plt.show()\n",
        "\n",
        "\n",
        "def plot_loss(history,title):\n",
        "    plt.title(title)\n",
        "    plt.plot(history.history['loss'])\n",
        "    plt.plot(history.history['val_loss'])\n",
        "    plt.ylabel('loss')\n",
        "    plt.xlabel('epoch')\n",
        "    plt.legend(['train_loss', 'validation_loss'], loc='best')\n",
        "    plt.show()\n",
        "\n",
        "\n",
        "plot_accuracy(history,'FOOD101-Inceptionv3')\n",
        "plot_loss(history,'FOOD101-Inceptionv3')"
      ],
      "execution_count": null,
      "outputs": [
        {
          "output_type": "display_data",
          "data": {
            "image/png": "[encoded data removed]",
            "text/plain": [
              "<Figure size 432x288 with 1 Axes>"
            ]
          },
          "metadata": {
            "tags": [],
            "needs_background": "light"
          }
        },
        {
          "output_type": "display_data",
          "data": {
            "image/png": "[encoded data removed]",
            "text/plain": [
              "<Figure size 432x288 with 1 Axes>"
            ]
          },
          "metadata": {
            "tags": [],
            "needs_background": "light"
          }
        }
      ]
    },
    {
      "cell_type": "markdown",
      "metadata": {
        "id": "lks3uwNpvI4X"
      },
      "source": [
        "## 훈련된 모델로 음식 이미지를 예측"
      ]
    },
    {
      "cell_type": "code",
      "metadata": {
        "colab": {
          "base_uri": "https://localhost:8080/"
        },
        "id": "73MLZW9tvNnv",
        "outputId": "991d62f3-d9fe-4443-d087-332634df304d"
      },
      "source": [
        "%%time\n",
        "# Loading the best saved model to make predictions\n",
        "\n",
        "K.clear_session()\n",
        "model_best = load_model('bestmodel_3class.hdf5',compile = False)"
      ],
      "execution_count": null,
      "outputs": [
        {
          "output_type": "stream",
          "text": [
            "CPU times: user 1.72 s, sys: 77.6 ms, total: 1.8 s\n",
            "Wall time: 1.78 s\n"
          ],
          "name": "stdout"
        }
      ]
    },
    {
      "cell_type": "code",
      "metadata": {
        "id": "gmkqJxpqvQPP"
      },
      "source": [
        "def predict_class(model, images, show = True):\n",
        "  for img in images:\n",
        "    img = image.load_img(img, target_size=(299, 299))\n",
        "    img = image.img_to_array(img)                    \n",
        "    img = np.expand_dims(img, axis=0)         \n",
        "    img = preprocess_input(img)                                      \n",
        "\n",
        "    pred = model.predict(img)\n",
        "    index = np.argmax(pred)\n",
        "    food_list.sort()\n",
        "    pred_value = food_list[index]\n",
        "    #print(pred)\n",
        "    if show:\n",
        "        plt.imshow(img[0])                           \n",
        "        plt.axis('off')\n",
        "        plt.title(pred_value)\n",
        "        plt.show()"
      ],
      "execution_count": null,
      "outputs": []
    },
    {
      "cell_type": "code",
      "metadata": {
        "id": "sgycjjk-vShP"
      },
      "source": [
        "# Make a list of images and test the trained model\n",
        "images = []\n",
        "images.append('/content/food/test_mini/피자/11297.jpg')\n",
        "images.append('/content/food/test_mini/후라이드치킨/Img_028_0759.jpg')\n",
        "images.append('/content/food/test_mini/볶음밥/1106712.jpg')\n",
        "predict_class(model_best, images, True)"
      ],
      "execution_count": null,
      "outputs": []
    },
    {
      "cell_type": "markdown",
      "metadata": {
        "id": "jlx5fYSK9Pc7"
      },
      "source": [
        "# 전체 음식 이미지 분류 모델"
      ]
    },
    {
      "cell_type": "markdown",
      "metadata": {
        "id": "YclwqBMZ9R66"
      },
      "source": [
        "이 챕터에서는 `food-101` 리스트에 있는 모든 음식 이미지를 분류하는 모델을 훈련한다.\n",
        "\n",
        "이전 챕터에서 이미 훈련용, 테스트용으로 분류했기 때문에 데이터세트 분류 작업은 넘어간다."
      ]
    },
    {
      "cell_type": "markdown",
      "metadata": {
        "id": "_eqvXkz39gY6"
      },
      "source": [
        "## 분류한 데이터세트로 Inception 모델 미세조정"
      ]
    },
    {
      "cell_type": "markdown",
      "metadata": {
        "id": "B0GoP2zWEo6l"
      },
      "source": [
        "먼저 전체 데이터세트 내용을 다시 확인한다."
      ]
    },
    {
      "cell_type": "code",
      "metadata": {
        "id": "FDxrwHnvFVTK"
      },
      "source": [
        "# root_dir = 'food-101'\n",
        "root_dir = 'food'"
      ],
      "execution_count": null,
      "outputs": []
    },
    {
      "cell_type": "code",
      "metadata": {
        "colab": {
          "base_uri": "https://localhost:8080/"
        },
        "id": "yEzkTP69Irjh",
        "outputId": "04306ec3-12b6-4ac9-9131-47bed77cda18"
      },
      "source": [
        "foods_sorted = sorted(os.listdir(root_dir+'/train'))\n",
        "print(foods_sorted)\n",
        "print(len(foods_sorted))"
      ],
      "execution_count": null,
      "outputs": [
        {
          "output_type": "stream",
          "text": [
            "['간장게장', '갈비구이', '갈비찜', '갈비탕', '감자탕', '곱창구이', '교자', '김치찌개', '김치찜', '까르보나라', '닭갈비', '닭계장', '닭볶음탕', '된장찌개', '라멘', '라면', '만두', '매운탕', '물냉면', '물회', '보쌈', '볶음밥', '불고기', '비빔냉면', '비빔밥', '삼겹살', '삼계탕', '설렁탕', '수육', '수제비', '순두부찌개', '스테이크', '스파게티', '양념게장', '양념치킨', '연어구이', '연어회', '오믈렛', '육개장', '육회', '잔치국수', '전골', '제육볶음', '조개구이', '족발', '주꾸미볶음', '짜장면', '짬뽕', '쫄면', '찜닭', '초밥', '추어탕', '카레', '칼국수', '콩국수', '파전', '피자', '해물찜', '햄버거', '후라이드치킨', '훈제오리']\n",
            "61\n"
          ],
          "name": "stdout"
        }
      ]
    },
    {
      "cell_type": "code",
      "metadata": {
        "colab": {
          "base_uri": "https://localhost:8080/"
        },
        "id": "C8BuXYFhEwF7",
        "outputId": "48cac28a-c232-4bf0-998e-806f722d91a1"
      },
      "source": [
        "# Check how many files are in the train folder\n",
        "\n",
        "train_files = sum([len(files) for i, j, files in os.walk(root_dir+\"/train\")])\n",
        "print(\"Total number of samples in train folder\")\n",
        "print(train_files)"
      ],
      "execution_count": null,
      "outputs": [
        {
          "output_type": "stream",
          "text": [
            "Total number of samples in train folder\n",
            "45750\n"
          ],
          "name": "stdout"
        }
      ]
    },
    {
      "cell_type": "code",
      "metadata": {
        "colab": {
          "base_uri": "https://localhost:8080/"
        },
        "id": "t-Ec55RWEwpE",
        "outputId": "d25a3737-718e-4617-da9c-cf393a19c8fe"
      },
      "source": [
        "# Check how many files are in the test folder\n",
        "test_files = sum([len(files) for i, j, files in os.walk(root_dir+\"/test\")])\n",
        "print(\"Total number of samples in test folder\")\n",
        "print(test_files)"
      ],
      "execution_count": null,
      "outputs": [
        {
          "output_type": "stream",
          "text": [
            "Total number of samples in test folder\n",
            "15250\n"
          ],
          "name": "stdout"
        }
      ]
    },
    {
      "cell_type": "markdown",
      "metadata": {
        "id": "czzt3RBgEzV0"
      },
      "source": [
        "다음 적절한 학습함수를 설정하고 모델을 훈련한다.\n",
        "\n",
        "필자는 `batch_size` 를 16, `epochs` 를 20으로 설정했다."
      ]
    },
    {
      "cell_type": "code",
      "metadata": {
        "id": "9e7H36bo98RN"
      },
      "source": [
        "def train_model(n_classes,num_epochs, nb_train_samples,nb_validation_samples):\n",
        "  K.clear_session()\n",
        "\n",
        "  img_width, img_height = 299, 299\n",
        "  train_data_dir = root_dir+'/train'\n",
        "  validation_data_dir = root_dir+'/test'\n",
        "  batch_size = 16\n",
        "  bestmodel_path = 'bestmodel_'+str(n_classes)+'class.hdf5'\n",
        "  trainedmodel_path = 'trainedmodel_'+str(n_classes)+'class.hdf5'\n",
        "  history_path = 'history_'+str(n_classes)+'.log'\n",
        "\n",
        "  train_datagen = ImageDataGenerator(\n",
        "      preprocessing_function=preprocess_input,\n",
        "      shear_range=0.2,\n",
        "      zoom_range=0.2,\n",
        "      horizontal_flip=True)\n",
        "\n",
        "  test_datagen = ImageDataGenerator(preprocessing_function=preprocess_input)\n",
        "\n",
        "  train_generator = train_datagen.flow_from_directory(\n",
        "      train_data_dir,\n",
        "      target_size=(img_height, img_width),\n",
        "      batch_size=batch_size,\n",
        "      class_mode='categorical')\n",
        "\n",
        "  validation_generator = test_datagen.flow_from_directory(\n",
        "      validation_data_dir,\n",
        "      target_size=(img_height, img_width),\n",
        "      batch_size=batch_size,\n",
        "      class_mode='categorical')\n",
        "\n",
        "\n",
        "  inception = InceptionV3(weights='imagenet', include_top=False)\n",
        "  x = inception.output\n",
        "  x = GlobalAveragePooling2D()(x)\n",
        "  x = Dense(128,activation='relu')(x)\n",
        "  x = Dropout(0.2)(x)\n",
        "\n",
        "  predictions = Dense(n_classes,kernel_regularizer=regularizers.l2(0.005), activation='softmax')(x)\n",
        "\n",
        "  model = Model(inputs=inception.input, outputs=predictions)\n",
        "  model.compile(optimizer=SGD(lr=0.0001, momentum=0.9), loss='categorical_crossentropy', metrics=['accuracy'])\n",
        "  checkpoint = ModelCheckpoint(filepath=bestmodel_path, verbose=1, save_best_only=True)\n",
        "  csv_logger = CSVLogger(history_path)\n",
        "\n",
        "  history = model.fit(train_generator,\n",
        "                      steps_per_epoch = nb_train_samples // batch_size,\n",
        "                      validation_data=validation_generator,\n",
        "                      validation_steps=nb_validation_samples // batch_size,\n",
        "                      epochs=num_epochs,\n",
        "                      verbose=1,\n",
        "                      callbacks=[csv_logger, checkpoint])\n",
        "\n",
        "  model.save(trainedmodel_path)\n",
        "  class_map = train_generator.class_indices\n",
        "  return history, class_map"
      ],
      "execution_count": null,
      "outputs": []
    },
    {
      "cell_type": "code",
      "metadata": {
        "colab": {
          "base_uri": "https://localhost:8080/"
        },
        "id": "VA_Sic_39_fi",
        "outputId": "993f6ee0-df0a-4e27-f2ac-44983887c015"
      },
      "source": [
        "# Train the model with data from all(101) classes\n",
        "n_classes = len(foods_sorted)\n",
        "epochs = 10\n",
        "nb_train_samples = train_files\n",
        "nb_validation_samples = test_files\n",
        "\n",
        "history, class_map = train_model(n_classes,epochs, nb_train_samples,nb_validation_samples)\n",
        "print(class_map)"
      ],
      "execution_count": null,
      "outputs": [
        {
          "output_type": "stream",
          "text": [
            "Found 45750 images belonging to 61 classes.\n",
            "Found 15250 images belonging to 61 classes.\n",
            "Downloading data from https://storage.googleapis.com/tensorflow/keras-applications/inception_v3/inception_v3_weights_tf_dim_ordering_tf_kernels_notop.h5\n",
            "87916544/87910968 [==============================] - 0s 0us/step\n",
            "Epoch 1/10\n",
            " 103/2859 [>.............................] - ETA: 18:05 - loss: 4.6389 - accuracy: 0.0177"
          ],
          "name": "stdout"
        },
        {
          "output_type": "stream",
          "text": [
            "/usr/local/lib/python3.7/dist-packages/PIL/Image.py:960: UserWarning: Palette images with Transparency expressed in bytes should be converted to RGBA images\n",
            "  \"Palette images with Transparency expressed in bytes should be \"\n"
          ],
          "name": "stderr"
        },
        {
          "output_type": "stream",
          "text": [
            " 273/2859 [=>............................] - ETA: 17:00 - loss: 4.6108 - accuracy: 0.0166"
          ],
          "name": "stdout"
        },
        {
          "output_type": "stream",
          "text": [
            "/usr/local/lib/python3.7/dist-packages/PIL/TiffImagePlugin.py:788: UserWarning: Corrupt EXIF data.  Expecting to read 12 bytes but only got 4. \n",
            "  warnings.warn(str(msg))\n"
          ],
          "name": "stderr"
        },
        {
          "output_type": "stream",
          "text": [
            "2671/2859 [===========================>..] - ETA: 1:14 - loss: 4.4025 - accuracy: 0.0533"
          ],
          "name": "stdout"
        },
        {
          "output_type": "stream",
          "text": [
            "/usr/local/lib/python3.7/dist-packages/PIL/TiffImagePlugin.py:770: UserWarning: Possibly corrupt EXIF data.  Expecting to read 1078 bytes but only got 0. Skipping tag 37500\n",
            "  \" Skipping tag %s\" % (size, len(data), tag)\n",
            "/usr/local/lib/python3.7/dist-packages/PIL/TiffImagePlugin.py:770: UserWarning: Possibly corrupt EXIF data.  Expecting to read 125 bytes but only got 120. Skipping tag 37510\n",
            "  \" Skipping tag %s\" % (size, len(data), tag)\n",
            "/usr/local/lib/python3.7/dist-packages/PIL/TiffImagePlugin.py:770: UserWarning: Possibly corrupt EXIF data.  Expecting to read 8 bytes but only got 0. Skipping tag 41988\n",
            "  \" Skipping tag %s\" % (size, len(data), tag)\n"
          ],
          "name": "stderr"
        },
        {
          "output_type": "stream",
          "text": [
            "2859/2859 [==============================] - 1286s 437ms/step - loss: 4.3849 - accuracy: 0.0573 - val_loss: 3.1832 - val_accuracy: 0.3674\n",
            "\n",
            "Epoch 00001: val_loss improved from inf to 3.18316, saving model to bestmodel_61class.hdf5\n",
            "Epoch 2/10\n",
            "2859/2859 [==============================] - 1236s 432ms/step - loss: 3.1036 - accuracy: 0.3318 - val_loss: 1.9501 - val_accuracy: 0.5954\n",
            "\n",
            "Epoch 00002: val_loss improved from 3.18316 to 1.95007, saving model to bestmodel_61class.hdf5\n",
            "Epoch 3/10\n",
            "2859/2859 [==============================] - 1230s 430ms/step - loss: 2.2517 - accuracy: 0.5026 - val_loss: 1.5483 - val_accuracy: 0.6742\n",
            "\n",
            "Epoch 00003: val_loss improved from 1.95007 to 1.54828, saving model to bestmodel_61class.hdf5\n",
            "Epoch 4/10\n",
            "2859/2859 [==============================] - 1228s 430ms/step - loss: 1.8973 - accuracy: 0.5849 - val_loss: 1.3477 - val_accuracy: 0.7190\n",
            "\n",
            "Epoch 00004: val_loss improved from 1.54828 to 1.34771, saving model to bestmodel_61class.hdf5\n",
            "Epoch 5/10\n",
            "2859/2859 [==============================] - 1254s 439ms/step - loss: 1.6685 - accuracy: 0.6396 - val_loss: 1.2431 - val_accuracy: 0.7460\n",
            "\n",
            "Epoch 00005: val_loss improved from 1.34771 to 1.24306, saving model to bestmodel_61class.hdf5\n",
            "Epoch 6/10\n",
            "2859/2859 [==============================] - 1265s 442ms/step - loss: 1.5244 - accuracy: 0.6763 - val_loss: 1.1778 - val_accuracy: 0.7573\n",
            "\n",
            "Epoch 00006: val_loss improved from 1.24306 to 1.17782, saving model to bestmodel_61class.hdf5\n",
            "Epoch 7/10\n",
            "2859/2859 [==============================] - 1257s 440ms/step - loss: 1.4011 - accuracy: 0.7033 - val_loss: 1.0999 - val_accuracy: 0.7754\n",
            "\n",
            "Epoch 00007: val_loss improved from 1.17782 to 1.09994, saving model to bestmodel_61class.hdf5\n",
            "Epoch 8/10\n",
            "2859/2859 [==============================] - 1264s 442ms/step - loss: 1.3105 - accuracy: 0.7213 - val_loss: 1.0436 - val_accuracy: 0.7872\n",
            "\n",
            "Epoch 00008: val_loss improved from 1.09994 to 1.04363, saving model to bestmodel_61class.hdf5\n",
            "Epoch 9/10\n",
            "2859/2859 [==============================] - 1264s 442ms/step - loss: 1.2383 - accuracy: 0.7442 - val_loss: 1.0001 - val_accuracy: 0.7966\n",
            "\n",
            "Epoch 00009: val_loss improved from 1.04363 to 1.00010, saving model to bestmodel_61class.hdf5\n",
            "Epoch 10/10\n",
            "2859/2859 [==============================] - 1253s 438ms/step - loss: 1.1585 - accuracy: 0.7635 - val_loss: 0.9834 - val_accuracy: 0.7980\n",
            "\n",
            "Epoch 00010: val_loss improved from 1.00010 to 0.98339, saving model to bestmodel_61class.hdf5\n",
            "{'간장게장': 0, '갈비구이': 1, '갈비찜': 2, '갈비탕': 3, '감자탕': 4, '곱창구이': 5, '교자': 6, '김치찌개': 7, '김치찜': 8, '까르보나라': 9, '닭갈비': 10, '닭계장': 11, '닭볶음탕': 12, '된장찌개': 13, '라멘': 14, '라면': 15, '만두': 16, '매운탕': 17, '물냉면': 18, '물회': 19, '보쌈': 20, '볶음밥': 21, '불고기': 22, '비빔냉면': 23, '비빔밥': 24, '삼겹살': 25, '삼계탕': 26, '설렁탕': 27, '수육': 28, '수제비': 29, '순두부찌개': 30, '스테이크': 31, '스파게티': 32, '양념게장': 33, '양념치킨': 34, '연어구이': 35, '연어회': 36, '오믈렛': 37, '육개장': 38, '육회': 39, '잔치국수': 40, '전골': 41, '제육볶음': 42, '조개구이': 43, '족발': 44, '주꾸미볶음': 45, '짜장면': 46, '짬뽕': 47, '쫄면': 48, '찜닭': 49, '초밥': 50, '추어탕': 51, '카레': 52, '칼국수': 53, '콩국수': 54, '파전': 55, '피자': 56, '해물찜': 57, '햄버거': 58, '후라이드치킨': 59, '훈제오리': 60}\n"
          ],
          "name": "stdout"
        }
      ]
    },
    {
      "cell_type": "markdown",
      "metadata": {
        "id": "Tv7UHuP1_4HR"
      },
      "source": [
        "## 정확도(accuracy)와 손실값(loss)를 시각화한다."
      ]
    },
    {
      "cell_type": "code",
      "metadata": {
        "colab": {
          "base_uri": "https://localhost:8080/",
          "height": 573
        },
        "id": "oUzKXYUm_8KR",
        "outputId": "bff8c206-edea-4be5-d69b-a882537d71b3"
      },
      "source": [
        "def plot_accuracy(history,title):\n",
        "    plt.title(title)\n",
        "    plt.plot(history.history['accuracy']) # change acc to accuracy if testing TF 2.0\n",
        "    plt.plot(history.history['val_accuracy']) # change val_accuracy if testing TF 2.0\n",
        "    plt.ylabel('accuracy')\n",
        "    plt.xlabel('epoch')\n",
        "    plt.legend(['train_accuracy', 'validation_accuracy'], loc='best')\n",
        "    plt.show()\n",
        "\n",
        "\n",
        "def plot_loss(history,title):\n",
        "    plt.title(title)\n",
        "    plt.plot(history.history['loss'])\n",
        "    plt.plot(history.history['val_loss'])\n",
        "    plt.ylabel('loss')\n",
        "    plt.xlabel('epoch')\n",
        "    plt.legend(['train_loss', 'validation_loss'], loc='best')\n",
        "    plt.show()\n",
        "\n",
        "\n",
        "plot_accuracy(history,'FOOD101-Inceptionv3')\n",
        "plot_loss(history,'FOOD101-Inceptionv3')"
      ],
      "execution_count": null,
      "outputs": [
        {
          "output_type": "display_data",
          "data": {
            "image/png": "[encoded data removed]",
            "text/plain": [
              "<Figure size 432x288 with 1 Axes>"
            ]
          },
          "metadata": {
            "tags": [],
            "needs_background": "light"
          }
        },
        {
          "output_type": "display_data",
          "data": {
            "image/png": "[encoded data removed]",
            "text/plain": [
              "<Figure size 432x288 with 1 Axes>"
            ]
          },
          "metadata": {
            "tags": [],
            "needs_background": "light"
          }
        }
      ]
    },
    {
      "cell_type": "markdown",
      "metadata": {
        "id": "2wwAlY9t_9Dw"
      },
      "source": [
        "## 훈련된 모델로 음식 이미지를 예측"
      ]
    },
    {
      "cell_type": "code",
      "metadata": {
        "colab": {
          "base_uri": "https://localhost:8080/"
        },
        "id": "bcTb_vPWAHDg",
        "outputId": "adbcc1bc-bdd7-4df0-a8fc-a69a06e03814"
      },
      "source": [
        "%%time\n",
        "# Loading the best saved model to make predictions\n",
        "\n",
        "K.clear_session()\n",
        "model_best = load_model('bestmodel_61class.hdf5',compile = False)"
      ],
      "execution_count": null,
      "outputs": [
        {
          "output_type": "stream",
          "text": [
            "CPU times: user 1.78 s, sys: 83.3 ms, total: 1.86 s\n",
            "Wall time: 1.95 s\n"
          ],
          "name": "stdout"
        }
      ]
    },
    {
      "cell_type": "markdown",
      "metadata": {
        "id": "zhSEX25RADzn"
      },
      "source": [
        "### 단일 이미지 예측"
      ]
    },
    {
      "cell_type": "code",
      "metadata": {
        "id": "1ZqksIAfAznO"
      },
      "source": [
        "def predict_class_single(model, img, show = True):\n",
        "  img = image.load_img(img, target_size=(299, 299))\n",
        "  img = image.img_to_array(img)                    \n",
        "  img = np.expand_dims(img, axis=0)         \n",
        "  img = preprocess_input(img)                                      \n",
        "\n",
        "  pred = model.predict(img)\n",
        "  index = np.argmax(pred)\n",
        "  pred_value = foods_sorted[index]\n",
        "  #print(pred)\n",
        "  if show:\n",
        "      plt.imshow(img[0])                           \n",
        "      plt.axis('off')\n",
        "      plt.title(pred_value)\n",
        "      plt.show()"
      ],
      "execution_count": null,
      "outputs": []
    },
    {
      "cell_type": "code",
      "metadata": {
        "colab": {
          "base_uri": "https://localhost:8080/",
          "height": 570
        },
        "id": "ew1DxsDCA5Xp",
        "outputId": "31546d6b-4b43-4c9b-ca3b-5ab4089e956c"
      },
      "source": [
        "# imagepath = '/content/food-101/test/samosa/144404.jpg'\n",
        "imagepath = '/content/food/test/순두부찌개/Img_123_0756.jpg'\n",
        "predict_class_single(model_best, imagepath, True)"
      ],
      "execution_count": null,
      "outputs": [
        {
          "output_type": "stream",
          "text": [
            "Clipping input data to the valid range for imshow with RGB data ([0..1] for floats or [0..255] for integers).\n",
            "/usr/local/lib/python3.7/dist-packages/matplotlib/backends/backend_agg.py:214: RuntimeWarning: Glyph 44608 missing from current font.\n",
            "  font.set_text(s, 0.0, flags=flags)\n",
            "/usr/local/lib/python3.7/dist-packages/matplotlib/backends/backend_agg.py:214: RuntimeWarning: Glyph 52824 missing from current font.\n",
            "  font.set_text(s, 0.0, flags=flags)\n",
            "/usr/local/lib/python3.7/dist-packages/matplotlib/backends/backend_agg.py:214: RuntimeWarning: Glyph 52236 missing from current font.\n",
            "  font.set_text(s, 0.0, flags=flags)\n",
            "/usr/local/lib/python3.7/dist-packages/matplotlib/backends/backend_agg.py:214: RuntimeWarning: Glyph 44060 missing from current font.\n",
            "  font.set_text(s, 0.0, flags=flags)\n",
            "/usr/local/lib/python3.7/dist-packages/matplotlib/backends/backend_agg.py:183: RuntimeWarning: Glyph 44608 missing from current font.\n",
            "  font.set_text(s, 0, flags=flags)\n",
            "/usr/local/lib/python3.7/dist-packages/matplotlib/backends/backend_agg.py:183: RuntimeWarning: Glyph 52824 missing from current font.\n",
            "  font.set_text(s, 0, flags=flags)\n",
            "/usr/local/lib/python3.7/dist-packages/matplotlib/backends/backend_agg.py:183: RuntimeWarning: Glyph 52236 missing from current font.\n",
            "  font.set_text(s, 0, flags=flags)\n",
            "/usr/local/lib/python3.7/dist-packages/matplotlib/backends/backend_agg.py:183: RuntimeWarning: Glyph 44060 missing from current font.\n",
            "  font.set_text(s, 0, flags=flags)\n"
          ],
          "name": "stderr"
        },
        {
          "output_type": "display_data",
          "data": {
            "image/png": "[encoded data removed]",
            "text/plain": [
              "<Figure size 432x288 with 1 Axes>"
            ]
          },
          "metadata": {
            "tags": [],
            "needs_background": "light"
          }
        }
      ]
    },
    {
      "cell_type": "markdown",
      "metadata": {
        "id": "MhWV97FYAbhI"
      },
      "source": [
        "### 멀티 이미지 예측"
      ]
    },
    {
      "cell_type": "code",
      "metadata": {
        "id": "QuMqsxJO__2Q"
      },
      "source": [
        "def predict_class_multi(model, images, show = True):\n",
        "  for img in images:\n",
        "    img = image.load_img(img, target_size=(299, 299))\n",
        "    img = image.img_to_array(img)                    \n",
        "    img = np.expand_dims(img, axis=0)         \n",
        "    img = preprocess_input(img)                                      \n",
        "\n",
        "    pred = model.predict(img)\n",
        "    index = np.argmax(pred)\n",
        "    pred_value = foods_sorted[index]\n",
        "    #print(pred)\n",
        "    if show:\n",
        "        plt.imshow(img[0])                           \n",
        "        plt.axis('off')\n",
        "        plt.title(pred_value)\n",
        "        plt.show()"
      ],
      "execution_count": null,
      "outputs": []
    },
    {
      "cell_type": "code",
      "metadata": {
        "id": "06SUQEgmAgH4"
      },
      "source": [
        "# Make a list of images and test the trained model\n",
        "images = []\n",
        "imagepath = '/content/food-101/test/'\n",
        "images.append(imagepath+'samosa/144404.jpg')\n",
        "images.append(imagepath+'pizza/11297.jpg')\n",
        "images.append(imagepath+'omelette/1145379.jpg')\n",
        "predict_class_multi(model_best, images, True)"
      ],
      "execution_count": null,
      "outputs": []
    },
    {
      "cell_type": "markdown",
      "metadata": {
        "id": "77cg_-dwjaHV"
      },
      "source": [
        "# 모델 다운로드"
      ]
    },
    {
      "cell_type": "markdown",
      "metadata": {
        "id": "Dc-hGhgyjd_d"
      },
      "source": [
        "먼저 하위 폴더 목록을 확인한다."
      ]
    },
    {
      "cell_type": "code",
      "metadata": {
        "colab": {
          "base_uri": "https://localhost:8080/"
        },
        "id": "3yWKw-9rjcBN",
        "outputId": "44c951ee-b0ed-4352-ec7c-47d169d4bb76"
      },
      "source": [
        "ls"
      ],
      "execution_count": null,
      "outputs": [
        {
          "output_type": "stream",
          "text": [
            "bestmodel_101class.hdf5  food-101.tar.gz  \u001b[0m\u001b[01;34msample_data\u001b[0m/\n",
            "bestmodel_3class.hdf5    history_101.log  trainedmodel_101class.hdf5\n",
            "\u001b[01;34mfood-101\u001b[0m/                history_3.log    trainedmodel_3class.hdf5\n"
          ],
          "name": "stdout"
        }
      ]
    },
    {
      "cell_type": "markdown",
      "metadata": {
        "id": "i2tQDesdjg3l"
      },
      "source": [
        "다운로드 할 파일 경로를 입력한다."
      ]
    },
    {
      "cell_type": "code",
      "metadata": {
        "colab": {
          "base_uri": "https://localhost:8080/",
          "height": 17
        },
        "id": "VYrG-Laijlju",
        "outputId": "6fb79456-c75e-4f2f-cf93-7ed93b19a157"
      },
      "source": [
        "from google.colab import files\n",
        "\n",
        "files.download('/content/bestmodel_61class.hdf5')"
      ],
      "execution_count": null,
      "outputs": [
        {
          "output_type": "display_data",
          "data": {
            "application/javascript": [
              "\n",
              "    async function download(id, filename, size) {\n",
              "      if (!google.colab.kernel.accessAllowed) {\n",
              "        return;\n",
              "      }\n",
              "      const div = document.createElement('div');\n",
              "      const label = document.createElement('label');\n",
              "      label.textContent = `Downloading \"${filename}\": `;\n",
              "      div.appendChild(label);\n",
              "      const progress = document.createElement('progress');\n",
              "      progress.max = size;\n",
              "      div.appendChild(progress);\n",
              "      document.body.appendChild(div);\n",
              "\n",
              "      const buffers = [];\n",
              "      let downloaded = 0;\n",
              "\n",
              "      const channel = await google.colab.kernel.comms.open(id);\n",
              "      // Send a message to notify the kernel that we're ready.\n",
              "      channel.send({})\n",
              "\n",
              "      for await (const message of channel.messages) {\n",
              "        // Send a message to notify the kernel that we're ready.\n",
              "        channel.send({})\n",
              "        if (message.buffers) {\n",
              "          for (const buffer of message.buffers) {\n",
              "            buffers.push(buffer);\n",
              "            downloaded += buffer.byteLength;\n",
              "            progress.value = downloaded;\n",
              "          }\n",
              "        }\n",
              "      }\n",
              "      const blob = new Blob(buffers, {type: 'application/binary'});\n",
              "      const a = document.createElement('a');\n",
              "      a.href = window.URL.createObjectURL(blob);\n",
              "      a.download = filename;\n",
              "      div.appendChild(a);\n",
              "      a.click();\n",
              "      div.remove();\n",
              "    }\n",
              "  "
            ],
            "text/plain": [
              "<IPython.core.display.Javascript object>"
            ]
          },
          "metadata": {
            "tags": []
          }
        },
        {
          "output_type": "display_data",
          "data": {
            "application/javascript": [
              "download(\"download_558ed2c4-b0cb-47c4-81ce-bd08f430cbcf\", \"bestmodel_61class.hdf5\", 177778824)"
            ],
            "text/plain": [
              "<IPython.core.display.Javascript object>"
            ]
          },
          "metadata": {
            "tags": []
          }
        }
      ]
    }
  ]
}